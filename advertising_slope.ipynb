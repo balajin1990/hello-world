{
  "nbformat": 4,
  "nbformat_minor": 0,
  "metadata": {
    "colab": {
      "name": "test2.ipynb",
      "version": "0.3.2",
      "provenance": [],
      "collapsed_sections": [],
      "include_colab_link": true
    },
    "kernelspec": {
      "name": "python3",
      "display_name": "Python 3"
    }
  },
  "cells": [
    {
      "cell_type": "markdown",
      "metadata": {
        "id": "view-in-github",
        "colab_type": "text"
      },
      "source": [
        "<a href=\"https://colab.research.google.com/github/balajin1990/hello-world/blob/master/advertising_slope.ipynb\" target=\"_parent\"><img src=\"https://colab.research.google.com/assets/colab-badge.svg\" alt=\"Open In Colab\"/></a>"
      ]
    },
    {
      "metadata": {
        "id": "-x8c42AB_EPl",
        "colab_type": "code",
        "colab": {}
      },
      "cell_type": "code",
      "source": [
        "import tensorflow as tf\n",
        "import pandas as pd\n",
        "df = pd.read_csv('./Advertising.csv')\n",
        "X = tf.constant(df.TV.values)\n",
        "Xa = tf.reduce_mean(X)\n",
        "\n",
        "Y = tf.constant(df.sales.values)\n",
        "Ya = tf.reduce_mean(Y)\n",
        "\n",
        "numerator = tf.reduce_sum((Y-Ya)*(X-Xa))\n",
        "denominator = tf.reduce_sum(tf.pow((X-Xa), 2))\n",
        "\n",
        "slope = numerator/denominator\n",
        "\n",
        "with tf.Session() as sess:\n",
        "  print(sess.run(slope))"
      ],
      "execution_count": 0,
      "outputs": []
    },
    {
      "metadata": {
        "id": "77WLz-gn_HCu",
        "colab_type": "code",
        "colab": {}
      },
      "cell_type": "code",
      "source": [
        ""
      ],
      "execution_count": 0,
      "outputs": []
    }
  ]
}